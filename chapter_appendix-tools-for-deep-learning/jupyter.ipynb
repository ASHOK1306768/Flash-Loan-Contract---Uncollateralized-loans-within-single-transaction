{
  "cells": [
    {
      "cell_type": "markdown",
      "metadata": {
        "id": "view-in-github",
        "colab_type": "text"
      },
      "source": [
        "<a href=\"https://colab.research.google.com/github/ASHOK1306768/Flash-Loan-Contract---Uncollateralized-loans-within-single-transaction/blob/main/chapter_appendix-tools-for-deep-learning/jupyter.ipynb\" target=\"_parent\"><img src=\"https://colab.research.google.com/assets/colab-badge.svg\" alt=\"Open In Colab\"/></a>"
      ]
    },
    {
      "cell_type": "code",
      "source": [
        "pip install qrcode[pil]"
      ],
      "metadata": {
        "colab": {
          "base_uri": "https://localhost:8080/"
        },
        "id": "27RvbZJkwlXi",
        "outputId": "70d01e4a-f6e3-4422-933f-cc8edc1fdab0"
      },
      "id": "27RvbZJkwlXi",
      "execution_count": 1,
      "outputs": [
        {
          "output_type": "stream",
          "name": "stdout",
          "text": [
            "Collecting qrcode[pil]\n",
            "  Downloading qrcode-8.2-py3-none-any.whl.metadata (17 kB)\n",
            "Requirement already satisfied: pillow>=9.1.0 in /usr/local/lib/python3.12/dist-packages (from qrcode[pil]) (11.3.0)\n",
            "Downloading qrcode-8.2-py3-none-any.whl (45 kB)\n",
            "\u001b[2K   \u001b[90m━━━━━━━━━━━━━━━━━━━━━━━━━━━━━━━━━━━━━━━━\u001b[0m \u001b[32m46.0/46.0 kB\u001b[0m \u001b[31m3.0 MB/s\u001b[0m eta \u001b[36m0:00:00\u001b[0m\n",
            "\u001b[?25hInstalling collected packages: qrcode\n",
            "Successfully installed qrcode-8.2\n"
          ]
        }
      ]
    },
    {
      "cell_type": "code",
      "source": [
        "import qrcode\n",
        "\n",
        "song_url = \"https://bit.ly/4nPIJsq\"\n",
        "\n",
        "qr = qrcode.QRCode()\n",
        "qr.add_data(song_url)\n",
        "qr.make()\n",
        "\n",
        "qr.print_ascii()\n"
      ],
      "metadata": {
        "colab": {
          "base_uri": "https://localhost:8080/"
        },
        "id": "cAA-8VAOwpuA",
        "outputId": "1dc2fb6d-3db6-46e1-bdfe-b82a4234834d"
      },
      "id": "cAA-8VAOwpuA",
      "execution_count": 5,
      "outputs": [
        {
          "output_type": "stream",
          "name": "stdout",
          "text": [
            "                                 \n",
            "                                 \n",
            "    █▀▀▀▀▀█   ██▀ ▀█▀ █▀▀▀▀▀█    \n",
            "    █ ███ █ █▀█▄█ ▄ ▀ █ ███ █    \n",
            "    █ ▀▀▀ █ ████ ▀ ▄▀ █ ▀▀▀ █    \n",
            "    ▀▀▀▀▀▀▀ █▄▀ █ █▄█ ▀▀▀▀▀▀▀    \n",
            "    █▄▀███▀▄▄▀██▀▄▀▀▀ ▀█▀▀▀▄     \n",
            "     █▀█▄█▀▄ ▀▄█▄▀ ▀█▄▄ ▀▀ ▀█    \n",
            "    █▀█▀▄▄▀▄▀▄▄▀▄▀█  █▀▄▀▄▀█▀    \n",
            "    █  ▄ ▄▀▀ █▄ ▄▀▄█▀▀███▀ ▀█    \n",
            "    ▀ ▀▀▀ ▀ █ ▀ ▀▀█ █▀▀▀█▄▀      \n",
            "    █▀▀▀▀▀█ ▄▄▀█▀ ▄ █ ▀ █▄▀▀▀    \n",
            "    █ ███ █ ███▀▄▄ █▀▀█▀█▄███    \n",
            "    █ ▀▀▀ █ ▀██ ▄█▀▄█▄ ▄▄█▀ █    \n",
            "    ▀▀▀▀▀▀▀ ▀ ▀ ▀ ▀    ▀▀▀▀▀▀    \n",
            "                                 \n",
            "                                 \n"
          ]
        }
      ]
    },
    {
      "cell_type": "code",
      "source": [
        "import qrcode\n",
        "\n",
        "song_url = \"\"\n",
        "\n",
        "\n",
        "qr = qrcode.QRCode(\n",
        "    version=1,\n",
        "    error_correction=qrcode.constants.ERROR_CORRECT_H,\n",
        "    box_size=10,\n",
        "    border=4,\n",
        ")\n",
        "qr.add_data(song_url)\n",
        "qr.make(fit=True)\n",
        "\n",
        "img = qr.make_image(fill_color=\"black\", back_color=\"white\")\n",
        "\n",
        "img.show()\n",
        "file_name = \"song_qrcode.png\"\n",
        "img.save(file_name)\n",
        "\n",
        "print(f\"QR Code saved as {file_name}\")\n"
      ],
      "metadata": {
        "colab": {
          "base_uri": "https://localhost:8080/"
        },
        "id": "IbkWx-YyyxgE",
        "outputId": "1d70587c-5ed5-4ba8-8481-04e52f9c3825"
      },
      "id": "IbkWx-YyyxgE",
      "execution_count": 6,
      "outputs": [
        {
          "output_type": "stream",
          "name": "stdout",
          "text": [
            "QR Code saved as song_qrcode.png\n"
          ]
        }
      ]
    }
  ],
  "metadata": {
    "kernelspec": {
      "display_name": "Python 3",
      "name": "python3"
    },
    "language_info": {
      "name": "python"
    },
    "required_libs": [],
    "colab": {
      "provenance": [],
      "include_colab_link": true
    }
  },
  "nbformat": 4,
  "nbformat_minor": 5
}