{
  "cells": [
    {
      "cell_type": "markdown",
      "metadata": {
        "id": "view-in-github",
        "colab_type": "text"
      },
      "source": [
        "<a href=\"https://colab.research.google.com/github/ASHOK1306768/Flash-Loan-Contract---Uncollateralized-loans-within-single-transaction/blob/main/Welcome_To_Colab.ipynb\" target=\"_parent\"><img src=\"https://colab.research.google.com/assets/colab-badge.svg\" alt=\"Open In Colab\"/></a>"
      ]
    },
    {
      "cell_type": "markdown",
      "source": [],
      "metadata": {
        "id": "ZWYpp58QjnSN"
      }
    },
    {
      "cell_type": "code",
      "source": [
        "from scipy.stats import trim_mean\n",
        "data = [23,24,27,34,45,56,65]\n",
        "print('Trimmed mean(10%):',)\n",
        "print(trim_mean(data,0.1))"
      ],
      "metadata": {
        "id": "hUrtdpqXj2vR",
        "outputId": "22c1d3e0-095b-461d-8f7f-433ab546f0b5",
        "colab": {
          "base_uri": "https://localhost:8080/"
        }
      },
      "execution_count": 6,
      "outputs": [
        {
          "output_type": "stream",
          "name": "stdout",
          "text": [
            "Trimmed mean(10%):\n",
            "39.142857142857146\n"
          ]
        }
      ]
    },
    {
      "cell_type": "code",
      "source": [
        "import statistics\n",
        "data = [20,21,23,27,28,32,34,36,45]\n",
        "print('mean:',statistics.mean(data))\n",
        "print('median:',statistics.median(data))\n",
        "print('mode:',statistics.mode(data))\n"
      ],
      "metadata": {
        "colab": {
          "base_uri": "https://localhost:8080/"
        },
        "id": "RK6YW9HJfrZb",
        "outputId": "d12d33dd-6536-4e5f-909a-7653911e7a39"
      },
      "execution_count": 5,
      "outputs": [
        {
          "output_type": "stream",
          "name": "stdout",
          "text": [
            "mean: 29.555555555555557\n",
            "median: 28\n",
            "mode: 20\n",
            "trimmed mean: 29.555555555555557\n"
          ]
        }
      ]
    }
  ],
  "metadata": {
    "colab": {
      "name": "Welcome To Colab",
      "toc_visible": true,
      "provenance": [],
      "include_colab_link": true
    },
    "kernelspec": {
      "display_name": "Python 3",
      "name": "python3"
    }
  },
  "nbformat": 4,
  "nbformat_minor": 0
}